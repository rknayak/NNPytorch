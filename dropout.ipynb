{
  "nbformat": 4,
  "nbformat_minor": 0,
  "metadata": {
    "colab": {
      "name": "dropout.ipynb",
      "provenance": [],
      "authorship_tag": "ABX9TyNx97vr9U4bGG1TSO/NSKz9",
      "include_colab_link": true
    },
    "kernelspec": {
      "name": "python3",
      "display_name": "Python 3"
    },
    "language_info": {
      "name": "python"
    },
    "widgets": {
      "application/vnd.jupyter.widget-state+json": {
        "13c292f5e85b4d7e953b51ed85e503ec": {
          "model_module": "@jupyter-widgets/controls",
          "model_name": "HBoxModel",
          "model_module_version": "1.5.0",
          "state": {
            "_dom_classes": [],
            "_model_module": "@jupyter-widgets/controls",
            "_model_module_version": "1.5.0",
            "_model_name": "HBoxModel",
            "_view_count": null,
            "_view_module": "@jupyter-widgets/controls",
            "_view_module_version": "1.5.0",
            "_view_name": "HBoxView",
            "box_style": "",
            "children": [
              "IPY_MODEL_10e56d5e2aab4ec4b524e54a66fd835a",
              "IPY_MODEL_1c890a5a24e34471baed563c6e44e8f5",
              "IPY_MODEL_82e1202ec2ef40d4a51f8fe29b6c6ec1"
            ],
            "layout": "IPY_MODEL_e3ea583a5a9b4f29aa4162b1d7e0baee"
          }
        },
        "10e56d5e2aab4ec4b524e54a66fd835a": {
          "model_module": "@jupyter-widgets/controls",
          "model_name": "HTMLModel",
          "model_module_version": "1.5.0",
          "state": {
            "_dom_classes": [],
            "_model_module": "@jupyter-widgets/controls",
            "_model_module_version": "1.5.0",
            "_model_name": "HTMLModel",
            "_view_count": null,
            "_view_module": "@jupyter-widgets/controls",
            "_view_module_version": "1.5.0",
            "_view_name": "HTMLView",
            "description": "",
            "description_tooltip": null,
            "layout": "IPY_MODEL_c7f6ea65bc3e4394b5b5d32916c5ca16",
            "placeholder": "​",
            "style": "IPY_MODEL_90cea8d2a2e24150864f95aa3c17cf84",
            "value": "100%"
          }
        },
        "1c890a5a24e34471baed563c6e44e8f5": {
          "model_module": "@jupyter-widgets/controls",
          "model_name": "FloatProgressModel",
          "model_module_version": "1.5.0",
          "state": {
            "_dom_classes": [],
            "_model_module": "@jupyter-widgets/controls",
            "_model_module_version": "1.5.0",
            "_model_name": "FloatProgressModel",
            "_view_count": null,
            "_view_module": "@jupyter-widgets/controls",
            "_view_module_version": "1.5.0",
            "_view_name": "ProgressView",
            "bar_style": "success",
            "description": "",
            "description_tooltip": null,
            "layout": "IPY_MODEL_995bc7711fae4578af2741790771658c",
            "max": 500,
            "min": 0,
            "orientation": "horizontal",
            "style": "IPY_MODEL_6a5b322b7bef49dfa48886f76da921d2",
            "value": 500
          }
        },
        "82e1202ec2ef40d4a51f8fe29b6c6ec1": {
          "model_module": "@jupyter-widgets/controls",
          "model_name": "HTMLModel",
          "model_module_version": "1.5.0",
          "state": {
            "_dom_classes": [],
            "_model_module": "@jupyter-widgets/controls",
            "_model_module_version": "1.5.0",
            "_model_name": "HTMLModel",
            "_view_count": null,
            "_view_module": "@jupyter-widgets/controls",
            "_view_module_version": "1.5.0",
            "_view_name": "HTMLView",
            "description": "",
            "description_tooltip": null,
            "layout": "IPY_MODEL_897245e58c0a4d40a81b87bba7391bb4",
            "placeholder": "​",
            "style": "IPY_MODEL_7c7f9368e1864ba283e05e48cf673fec",
            "value": " 500/500 [00:21&lt;00:00, 24.52it/s]"
          }
        },
        "e3ea583a5a9b4f29aa4162b1d7e0baee": {
          "model_module": "@jupyter-widgets/base",
          "model_name": "LayoutModel",
          "model_module_version": "1.2.0",
          "state": {
            "_model_module": "@jupyter-widgets/base",
            "_model_module_version": "1.2.0",
            "_model_name": "LayoutModel",
            "_view_count": null,
            "_view_module": "@jupyter-widgets/base",
            "_view_module_version": "1.2.0",
            "_view_name": "LayoutView",
            "align_content": null,
            "align_items": null,
            "align_self": null,
            "border": null,
            "bottom": null,
            "display": null,
            "flex": null,
            "flex_flow": null,
            "grid_area": null,
            "grid_auto_columns": null,
            "grid_auto_flow": null,
            "grid_auto_rows": null,
            "grid_column": null,
            "grid_gap": null,
            "grid_row": null,
            "grid_template_areas": null,
            "grid_template_columns": null,
            "grid_template_rows": null,
            "height": null,
            "justify_content": null,
            "justify_items": null,
            "left": null,
            "margin": null,
            "max_height": null,
            "max_width": null,
            "min_height": null,
            "min_width": null,
            "object_fit": null,
            "object_position": null,
            "order": null,
            "overflow": null,
            "overflow_x": null,
            "overflow_y": null,
            "padding": null,
            "right": null,
            "top": null,
            "visibility": null,
            "width": null
          }
        },
        "c7f6ea65bc3e4394b5b5d32916c5ca16": {
          "model_module": "@jupyter-widgets/base",
          "model_name": "LayoutModel",
          "model_module_version": "1.2.0",
          "state": {
            "_model_module": "@jupyter-widgets/base",
            "_model_module_version": "1.2.0",
            "_model_name": "LayoutModel",
            "_view_count": null,
            "_view_module": "@jupyter-widgets/base",
            "_view_module_version": "1.2.0",
            "_view_name": "LayoutView",
            "align_content": null,
            "align_items": null,
            "align_self": null,
            "border": null,
            "bottom": null,
            "display": null,
            "flex": null,
            "flex_flow": null,
            "grid_area": null,
            "grid_auto_columns": null,
            "grid_auto_flow": null,
            "grid_auto_rows": null,
            "grid_column": null,
            "grid_gap": null,
            "grid_row": null,
            "grid_template_areas": null,
            "grid_template_columns": null,
            "grid_template_rows": null,
            "height": null,
            "justify_content": null,
            "justify_items": null,
            "left": null,
            "margin": null,
            "max_height": null,
            "max_width": null,
            "min_height": null,
            "min_width": null,
            "object_fit": null,
            "object_position": null,
            "order": null,
            "overflow": null,
            "overflow_x": null,
            "overflow_y": null,
            "padding": null,
            "right": null,
            "top": null,
            "visibility": null,
            "width": null
          }
        },
        "90cea8d2a2e24150864f95aa3c17cf84": {
          "model_module": "@jupyter-widgets/controls",
          "model_name": "DescriptionStyleModel",
          "model_module_version": "1.5.0",
          "state": {
            "_model_module": "@jupyter-widgets/controls",
            "_model_module_version": "1.5.0",
            "_model_name": "DescriptionStyleModel",
            "_view_count": null,
            "_view_module": "@jupyter-widgets/base",
            "_view_module_version": "1.2.0",
            "_view_name": "StyleView",
            "description_width": ""
          }
        },
        "995bc7711fae4578af2741790771658c": {
          "model_module": "@jupyter-widgets/base",
          "model_name": "LayoutModel",
          "model_module_version": "1.2.0",
          "state": {
            "_model_module": "@jupyter-widgets/base",
            "_model_module_version": "1.2.0",
            "_model_name": "LayoutModel",
            "_view_count": null,
            "_view_module": "@jupyter-widgets/base",
            "_view_module_version": "1.2.0",
            "_view_name": "LayoutView",
            "align_content": null,
            "align_items": null,
            "align_self": null,
            "border": null,
            "bottom": null,
            "display": null,
            "flex": null,
            "flex_flow": null,
            "grid_area": null,
            "grid_auto_columns": null,
            "grid_auto_flow": null,
            "grid_auto_rows": null,
            "grid_column": null,
            "grid_gap": null,
            "grid_row": null,
            "grid_template_areas": null,
            "grid_template_columns": null,
            "grid_template_rows": null,
            "height": null,
            "justify_content": null,
            "justify_items": null,
            "left": null,
            "margin": null,
            "max_height": null,
            "max_width": null,
            "min_height": null,
            "min_width": null,
            "object_fit": null,
            "object_position": null,
            "order": null,
            "overflow": null,
            "overflow_x": null,
            "overflow_y": null,
            "padding": null,
            "right": null,
            "top": null,
            "visibility": null,
            "width": null
          }
        },
        "6a5b322b7bef49dfa48886f76da921d2": {
          "model_module": "@jupyter-widgets/controls",
          "model_name": "ProgressStyleModel",
          "model_module_version": "1.5.0",
          "state": {
            "_model_module": "@jupyter-widgets/controls",
            "_model_module_version": "1.5.0",
            "_model_name": "ProgressStyleModel",
            "_view_count": null,
            "_view_module": "@jupyter-widgets/base",
            "_view_module_version": "1.2.0",
            "_view_name": "StyleView",
            "bar_color": null,
            "description_width": ""
          }
        },
        "897245e58c0a4d40a81b87bba7391bb4": {
          "model_module": "@jupyter-widgets/base",
          "model_name": "LayoutModel",
          "model_module_version": "1.2.0",
          "state": {
            "_model_module": "@jupyter-widgets/base",
            "_model_module_version": "1.2.0",
            "_model_name": "LayoutModel",
            "_view_count": null,
            "_view_module": "@jupyter-widgets/base",
            "_view_module_version": "1.2.0",
            "_view_name": "LayoutView",
            "align_content": null,
            "align_items": null,
            "align_self": null,
            "border": null,
            "bottom": null,
            "display": null,
            "flex": null,
            "flex_flow": null,
            "grid_area": null,
            "grid_auto_columns": null,
            "grid_auto_flow": null,
            "grid_auto_rows": null,
            "grid_column": null,
            "grid_gap": null,
            "grid_row": null,
            "grid_template_areas": null,
            "grid_template_columns": null,
            "grid_template_rows": null,
            "height": null,
            "justify_content": null,
            "justify_items": null,
            "left": null,
            "margin": null,
            "max_height": null,
            "max_width": null,
            "min_height": null,
            "min_width": null,
            "object_fit": null,
            "object_position": null,
            "order": null,
            "overflow": null,
            "overflow_x": null,
            "overflow_y": null,
            "padding": null,
            "right": null,
            "top": null,
            "visibility": null,
            "width": null
          }
        },
        "7c7f9368e1864ba283e05e48cf673fec": {
          "model_module": "@jupyter-widgets/controls",
          "model_name": "DescriptionStyleModel",
          "model_module_version": "1.5.0",
          "state": {
            "_model_module": "@jupyter-widgets/controls",
            "_model_module_version": "1.5.0",
            "_model_name": "DescriptionStyleModel",
            "_view_count": null,
            "_view_module": "@jupyter-widgets/base",
            "_view_module_version": "1.2.0",
            "_view_name": "StyleView",
            "description_width": ""
          }
        }
      }
    }
  },
  "cells": [
    {
      "cell_type": "markdown",
      "metadata": {
        "id": "view-in-github",
        "colab_type": "text"
      },
      "source": [
        "<a href=\"https://colab.research.google.com/github/rknayak/NNPytorch/blob/main/dropout.ipynb\" target=\"_parent\"><img src=\"https://colab.research.google.com/assets/colab-badge.svg\" alt=\"Open In Colab\"/></a>"
      ]
    },
    {
      "cell_type": "code",
      "execution_count": 16,
      "metadata": {
        "id": "xoFuIKhXWKKd"
      },
      "outputs": [],
      "source": [
        "import torch\n",
        "import torch.nn as nn\n",
        "import torch.nn.functional as F\n",
        "import matplotlib.pyplot as plt\n",
        "import numpy as np\n",
        "import pandas as pd\n",
        "from torch.utils.data import Dataset, DataLoader,TensorDataset\n",
        "import torch.optim as optim"
      ]
    },
    {
      "cell_type": "code",
      "source": [
        "n_points = 50"
      ],
      "metadata": {
        "id": "MTn8EzQBWezr"
      },
      "execution_count": 18,
      "outputs": []
    },
    {
      "cell_type": "code",
      "source": [
        "signal_center = [0.6,0.3]\n",
        "signal_std = [[0.18,0.03],[0.03,0.28]]\n",
        "\n",
        "signal_points = np.random.multivariate_normal(mean=signal_center,cov=signal_std,size=n_points)\n",
        "\n",
        "\n",
        "test_signal_points = np.random.multivariate_normal(mean=signal_center,cov=signal_std,size=n_points)"
      ],
      "metadata": {
        "id": "dYDB5gjtWj_N"
      },
      "execution_count": 19,
      "outputs": []
    },
    {
      "cell_type": "code",
      "source": [
        "bkg_points = np.random.rand(n_points,2)\n",
        "\n",
        "bkg_points[:,0] = -1+2.0*bkg_points[:,0]\n",
        "bkg_points[:,1] = -1+2.0*bkg_points[:,1]\n",
        "\n",
        "test_bkg_points = np.random.rand(n_points,2)\n",
        "\n",
        "test_bkg_points[:,0] = -1+2.0*test_bkg_points[:,0]\n",
        "test_bkg_points[:,1] = -1+2.0*test_bkg_points[:,1]"
      ],
      "metadata": {
        "id": "qQK6E15TXSdU"
      },
      "execution_count": 20,
      "outputs": []
    },
    {
      "cell_type": "code",
      "source": [
        "fig,ax = plt.subplots(1,2,figsize=(6,3),dpi=150)\n",
        "\n",
        "ax[0].scatter(bkg_points[:,0],bkg_points[:,1],s=2,c='gray')\n",
        "ax[0].scatter(signal_points[:,0],signal_points[:,1],s=10,c='red',ec='k',linewidth=0.5)\n",
        "ax[0].set_xlim(-1,1)\n",
        "ax[0].set_ylim(-1,1)\n",
        "\n",
        "\n",
        "ax[1].scatter(test_bkg_points[:,0],test_bkg_points[:,1],s=2,c='gray')\n",
        "ax[1].scatter(test_signal_points[:,0],test_signal_points[:,1],s=10,c='red',ec='k',linewidth=0.5)\n",
        "ax[1].set_xlim(-1,1)\n",
        "ax[1].set_ylim(-1,1)\n",
        "\n",
        "plt.tight_layout()\n",
        "plt.show()"
      ],
      "metadata": {
        "colab": {
          "base_uri": "https://localhost:8080/",
          "height": 452
        },
        "id": "2aCjBSzfZAz8",
        "outputId": "de0ad8b2-8de2-4bd5-9213-6b529ba1167e"
      },
      "execution_count": 21,
      "outputs": [
        {
          "output_type": "display_data",
          "data": {
            "text/plain": [
              "<Figure size 900x450 with 2 Axes>"
            ],
            "image/png": "[encoded data removed]"
          },
          "metadata": {
            "needs_background": "light"
          }
        }
      ]
    },
    {
      "cell_type": "code",
      "source": [
        "X = torch.FloatTensor( np.concatenate((signal_points,bkg_points)) )\n",
        "Y = torch.FloatTensor( np.concatenate( ( np.ones(len(signal_points)), np.zeros(len(bkg_points)) )) ).unsqueeze(1)\n",
        "\n",
        "dataset = TensorDataset(X, Y)\n"
      ],
      "metadata": {
        "id": "wmuk9ef3ZxOg"
      },
      "execution_count": 22,
      "outputs": []
    },
    {
      "cell_type": "code",
      "source": [
        "X_test = torch.FloatTensor( np.concatenate((test_signal_points,test_bkg_points)) )\n",
        "Y_test = torch.FloatTensor( np.concatenate( ( np.ones(len(test_signal_points)),\n",
        "                                             np.zeros(len(test_bkg_points)) )) ).unsqueeze(1)\n"
      ],
      "metadata": {
        "id": "vI4b6yMIZ0PF"
      },
      "execution_count": 23,
      "outputs": []
    },
    {
      "cell_type": "code",
      "source": [
        "dataloader = DataLoader(dataset,batch_size=100)"
      ],
      "metadata": {
        "id": "ZlU0yKyyZ2Pq"
      },
      "execution_count": 24,
      "outputs": []
    },
    {
      "cell_type": "code",
      "source": [
        "dropout = nn.Dropout(0.3)"
      ],
      "metadata": {
        "id": "WqKe7XiPZ4H1"
      },
      "execution_count": 25,
      "outputs": []
    },
    {
      "cell_type": "code",
      "source": [
        "dropout.train()"
      ],
      "metadata": {
        "colab": {
          "base_uri": "https://localhost:8080/"
        },
        "id": "YURbY_7iZ52w",
        "outputId": "f16e7fce-353a-4c15-8952-53cfd82ce131"
      },
      "execution_count": 26,
      "outputs": [
        {
          "output_type": "execute_result",
          "data": {
            "text/plain": [
              "Dropout(p=0.3, inplace=False)"
            ]
          },
          "metadata": {},
          "execution_count": 26
        }
      ]
    },
    {
      "cell_type": "code",
      "source": [
        "dropout.eval()"
      ],
      "metadata": {
        "colab": {
          "base_uri": "https://localhost:8080/"
        },
        "id": "RSx_5ZxPZ7Wz",
        "outputId": "7ea15043-9ab1-447d-952f-1e43090e145c"
      },
      "execution_count": 27,
      "outputs": [
        {
          "output_type": "execute_result",
          "data": {
            "text/plain": [
              "Dropout(p=0.3, inplace=False)"
            ]
          },
          "metadata": {},
          "execution_count": 27
        }
      ]
    },
    {
      "cell_type": "code",
      "source": [
        "x = torch.FloatTensor(np.random.rand(10))"
      ],
      "metadata": {
        "id": "jLQrmfc8Z9Cp"
      },
      "execution_count": 28,
      "outputs": []
    },
    {
      "cell_type": "code",
      "source": [
        "print(x)\n",
        "print(dropout(x))"
      ],
      "metadata": {
        "colab": {
          "base_uri": "https://localhost:8080/"
        },
        "id": "g2J9sVlLZ-u-",
        "outputId": "d4f2733b-d1d1-46bd-8a1c-0929219f8811"
      },
      "execution_count": 29,
      "outputs": [
        {
          "output_type": "stream",
          "name": "stdout",
          "text": [
            "tensor([0.9622, 0.3749, 0.2857, 0.8686, 0.2236, 0.9632, 0.0122, 0.9699, 0.0432,\n",
            "        0.8911])\n",
            "tensor([0.9622, 0.3749, 0.2857, 0.8686, 0.2236, 0.9632, 0.0122, 0.9699, 0.0432,\n",
            "        0.8911])\n"
          ]
        }
      ]
    },
    {
      "cell_type": "code",
      "source": [
        "class Net(nn.Module):\n",
        "    def __init__(self,layer_sizes,dropout_p=-1):\n",
        "        super(Net,self).__init__()\n",
        "        \n",
        "        self.dropout_p = dropout_p\n",
        "        self.layers = nn.ModuleList()\n",
        "        \n",
        "        \n",
        "        self.layer1 = nn.Linear(2,layer_sizes[0])\n",
        "        for hidden_i in range(1,len(layer_sizes)):\n",
        "            self.layers.append(nn.Linear(layer_sizes[hidden_i-1],layer_sizes[hidden_i]))\n",
        "        self.layer2 = nn.Linear(layer_sizes[-1],1)\n",
        "        self.activation = nn.ReLU()\n",
        "        if self.dropout_p > 0: \n",
        "            self.dropout = nn.Dropout(dropout_p)\n",
        "    \n",
        "    def forward(self,x):\n",
        "        \n",
        "        out = self.layer1(x)\n",
        "        out = self.activation(out)\n",
        "        if self.dropout_p > 0: \n",
        "            out = self.dropout(out)\n",
        "        for layer in self.layers:\n",
        "            out = layer(out)\n",
        "            out = self.activation(out)\n",
        "            if self.dropout_p > 0: \n",
        "                out = self.dropout(out)\n",
        "        out =   self.layer2(out) \n",
        "        return out"
      ],
      "metadata": {
        "id": "nJWCnjDAaAbP"
      },
      "execution_count": 30,
      "outputs": []
    },
    {
      "cell_type": "code",
      "source": [
        "net = Net([220]*15)\n",
        "netwithdrop = Net([220]*15,0.3)"
      ],
      "metadata": {
        "id": "nzKiyXB1aDP4"
      },
      "execution_count": 31,
      "outputs": []
    },
    {
      "cell_type": "code",
      "source": [
        "loss_func = nn.BCEWithLogitsLoss()"
      ],
      "metadata": {
        "id": "NTDLyzvOaFUM"
      },
      "execution_count": 32,
      "outputs": []
    },
    {
      "cell_type": "code",
      "source": [
        "optimizer = optim.Adam(net.parameters(), lr=1.2*1e-4)\n",
        "optimizer2 = optim.Adam(netwithdrop.parameters(), lr=1.2*1e-4) "
      ],
      "metadata": {
        "id": "HrHHHeanaIMA"
      },
      "execution_count": 33,
      "outputs": []
    },
    {
      "cell_type": "code",
      "source": [
        "from tqdm.notebook import tqdm\n",
        "\n",
        "\n",
        "def train_one_epoch(nn,optimizer):\n",
        "    batch_losses = []\n",
        "    nn.train()\n",
        "    for x,y in dataloader:\n",
        "        optimizer.zero_grad()\n",
        "        \n",
        "        output = nn(x)\n",
        "        loss = loss_func(output,y)\n",
        "        \n",
        "        batch_losses.append(loss.item())\n",
        "        \n",
        "        loss.backward()  \n",
        "        optimizer.step()\n",
        "    return np.mean(batch_losses)\n",
        "\n",
        "def validation_loss(nn):\n",
        "    nn.eval()\n",
        "    out = nn(X_test)\n",
        "    loss = loss_func(out,Y_test)\n",
        "    return loss.item()\n",
        "    \n",
        "n_epochs = 500\n",
        "\n",
        "loss_vs_epoch = []\n",
        "\n",
        "for epoch in tqdm( range(n_epochs) ):\n",
        "\n",
        "    loss_vs_epoch.append([train_one_epoch(net,optimizer),validation_loss(net)\n",
        "                          ,train_one_epoch(netwithdrop,optimizer2),validation_loss(netwithdrop)] )"
      ],
      "metadata": {
        "colab": {
          "base_uri": "https://localhost:8080/",
          "height": 49,
          "referenced_widgets": [
            "13c292f5e85b4d7e953b51ed85e503ec",
            "10e56d5e2aab4ec4b524e54a66fd835a",
            "1c890a5a24e34471baed563c6e44e8f5",
            "82e1202ec2ef40d4a51f8fe29b6c6ec1",
            "e3ea583a5a9b4f29aa4162b1d7e0baee",
            "c7f6ea65bc3e4394b5b5d32916c5ca16",
            "90cea8d2a2e24150864f95aa3c17cf84",
            "995bc7711fae4578af2741790771658c",
            "6a5b322b7bef49dfa48886f76da921d2",
            "897245e58c0a4d40a81b87bba7391bb4",
            "7c7f9368e1864ba283e05e48cf673fec"
          ]
        },
        "id": "5mGj5aA0aLhD",
        "outputId": "907398d7-0e7b-4867-9e5e-1381f8fc829d"
      },
      "execution_count": 34,
      "outputs": [
        {
          "output_type": "display_data",
          "data": {
            "text/plain": [
              "  0%|          | 0/500 [00:00<?, ?it/s]"
            ],
            "application/vnd.jupyter.widget-view+json": {
              "version_major": 2,
              "version_minor": 0,
              "model_id": "13c292f5e85b4d7e953b51ed85e503ec"
            }
          },
          "metadata": {}
        }
      ]
    },
    {
      "cell_type": "code",
      "source": [
        "fig,ax = plt.subplots(1,2,figsize=(6,3),dpi=150)\n",
        "\n",
        "\n",
        "loss_vs_epoch = np.array(loss_vs_epoch)\n",
        "\n",
        "ax[0].plot(loss_vs_epoch[:,0],label='training loss (no dropout)')\n",
        "ax[1].plot(loss_vs_epoch[:,2],label='training loss (with dropout)')\n",
        "\n",
        "val_min = np.amin(loss_vs_epoch[:,1])\n",
        "ax[0].plot(loss_vs_epoch[:,1],label='validation loss (no dropout)\\nminimum loss:{0:.2f}'.format(val_min))\n",
        "val_min = np.amin(loss_vs_epoch[:,3])\n",
        "ax[1].plot(loss_vs_epoch[:,3],label='validation loss (with dropout)\\nminimum loss:{0:.2f}'.format(val_min))\n",
        "\n",
        "for i in range(2):\n",
        "    ax[i].legend(fontsize=5)\n",
        "    ax[i].set_ylim(0,1)\n",
        "#plt.ylim(0,1)"
      ],
      "metadata": {
        "colab": {
          "base_uri": "https://localhost:8080/",
          "height": 429
        },
        "id": "DhjkA6AqaOe1",
        "outputId": "c4147b93-2b37-4cd0-90e1-2ed4ebeaecf9"
      },
      "execution_count": 35,
      "outputs": [
        {
          "output_type": "display_data",
          "data": {
            "text/plain": [
              "<Figure size 900x450 with 2 Axes>"
            ],
            "image/png": "[encoded data removed]"
          },
          "metadata": {
            "needs_background": "light"
          }
        }
      ]
    },
    {
      "cell_type": "code",
      "source": [
        ""
      ],
      "metadata": {
        "id": "zHCcc8LdaVdz"
      },
      "execution_count": null,
      "outputs": []
    }
  ]
}